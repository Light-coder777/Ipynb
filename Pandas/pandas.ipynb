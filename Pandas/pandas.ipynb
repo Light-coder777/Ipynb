{
  "nbformat": 4,
  "nbformat_minor": 0,
  "metadata": {
    "colab": {
      "provenance": [],
      "collapsed_sections": [],
      "authorship_tag": "ABX9TyPIx4+ddh5sdNNGbD8HV7Ek",
      "include_colab_link": true
    },
    "kernelspec": {
      "name": "python3",
      "display_name": "Python 3"
    },
    "language_info": {
      "name": "python"
    }
  },
  "cells": [
    {
      "cell_type": "markdown",
      "metadata": {
        "id": "view-in-github",
        "colab_type": "text"
      },
      "source": [
        "<a href=\"https://colab.research.google.com/github/Light-coder777/Ipynb/blob/main/Pandas/pandas.ipynb\" target=\"_parent\"><img src=\"https://colab.research.google.com/assets/colab-badge.svg\" alt=\"Open In Colab\"/></a>"
      ]
    },
    {
      "cell_type": "code",
      "execution_count": null,
      "metadata": {
        "id": "Mn181lQehlAo"
      },
      "outputs": [],
      "source": [
        "import re"
      ]
    },
    {
      "cell_type": "code",
      "source": [
        "txt = '''Now is the winter of our discontent\n",
        "Made glorious summer by this sun of York;\n",
        "And all the clouds that lour'd upon our house\n",
        "In the deep bosom of the ocean buried.\n",
        "Now are our brows bound with victorious wreaths;\n",
        "Our bruised arms hung up for monuments;\n",
        "Our stern alarums changed to merry meetings,\n",
        "Our dreadful marches to delightful measures.\n",
        "Grim-visaged war hath smooth'd his wrinkled front;\n",
        "And now, instead of mounting barded steeds\n",
        "To fright the souls of fearful adversaries,\n",
        "He capers nimbly in a lady's chamber\n",
        "To the lascivious pleasing of a lute.\n",
        "But I, that am not shaped for sportive tricks,\n",
        "Nor made to court an amorous souls looking-glass;\n",
        "I, that am rudely stamp'd, and want love's mam'''"
      ],
      "metadata": {
        "id": "xqrEVVxP0LPK"
      },
      "execution_count": null,
      "outputs": []
    },
    {
      "cell_type": "code",
      "source": [
        "find = re.search(\"am\",txt)\n",
        "find"
      ],
      "metadata": {
        "colab": {
          "base_uri": "https://localhost:8080/"
        },
        "id": "oQbXaZbS0PdT",
        "outputId": "21766235-c065-4f5c-b729-994fd8bb9803"
      },
      "execution_count": null,
      "outputs": [
        {
          "output_type": "execute_result",
          "data": {
            "text/plain": [
              "<re.Match object; span=(511, 513), match='am'>"
            ]
          },
          "metadata": {},
          "execution_count": 5
        }
      ]
    },
    {
      "cell_type": "code",
      "source": [
        "find = re.findall(\"am\",txt)"
      ],
      "metadata": {
        "id": "Eny4LsNs0W7G"
      },
      "execution_count": null,
      "outputs": []
    },
    {
      "cell_type": "code",
      "source": [
        "len(re.split(\"am\",txt))"
      ],
      "metadata": {
        "colab": {
          "base_uri": "https://localhost:8080/"
        },
        "id": "EoAmlTeu1ExT",
        "outputId": "f6599cc4-b364-4502-c489-9bbd593b9df5"
      },
      "execution_count": null,
      "outputs": [
        {
          "output_type": "execute_result",
          "data": {
            "text/plain": [
              "7"
            ]
          },
          "metadata": {},
          "execution_count": 8
        }
      ]
    },
    {
      "cell_type": "code",
      "source": [
        "re.findall(\"souls\",txt)"
      ],
      "metadata": {
        "colab": {
          "base_uri": "https://localhost:8080/"
        },
        "id": "z2CMMJnQ1Idf",
        "outputId": "aaa6fda0-65c2-4293-bc3c-99a39f15ac58"
      },
      "execution_count": null,
      "outputs": [
        {
          "output_type": "execute_result",
          "data": {
            "text/plain": [
              "['souls', 'souls']"
            ]
          },
          "metadata": {},
          "execution_count": 27
        }
      ]
    },
    {
      "cell_type": "code",
      "source": [
        "len(re.findall(\"\\s\",txt))"
      ],
      "metadata": {
        "colab": {
          "base_uri": "https://localhost:8080/"
        },
        "id": "oYqjDZ3Z2A0e",
        "outputId": "c97e657a-63a2-404f-e38b-1abe417fd4bc"
      },
      "execution_count": null,
      "outputs": [
        {
          "output_type": "execute_result",
          "data": {
            "text/plain": [
              "120"
            ]
          },
          "metadata": {},
          "execution_count": 28
        }
      ]
    },
    {
      "cell_type": "code",
      "source": [
        "len(re.findall(\".\",txt))"
      ],
      "metadata": {
        "colab": {
          "base_uri": "https://localhost:8080/"
        },
        "id": "m5GmG71o5HF_",
        "outputId": "b3e0640d-f6c4-4fba-ba52-e5122cb90917"
      },
      "execution_count": null,
      "outputs": [
        {
          "output_type": "execute_result",
          "data": {
            "text/plain": [
              "683"
            ]
          },
          "metadata": {},
          "execution_count": 29
        }
      ]
    },
    {
      "cell_type": "code",
      "source": [
        "url = ' 9971-5-0210-0'\n",
        "url = '960-425-059-0'\n",
        "pattern = '^www.[\\w\\d]*.com'\n",
        "pattern = '[\\d]{4}-\\d-[\\d]{4}-\\d|[\\d]{3}-[\\d]{3}-[\\d]{3}-\\d'\n",
        "re.findall(pattern,url)"
      ],
      "metadata": {
        "colab": {
          "base_uri": "https://localhost:8080/"
        },
        "id": "CGSOcHFR5LYN",
        "outputId": "b38cbfb8-7480-4a58-cd68-9d68d51bbe5d"
      },
      "execution_count": null,
      "outputs": [
        {
          "output_type": "execute_result",
          "data": {
            "text/plain": [
              "['960-425-059-0']"
            ]
          },
          "metadata": {},
          "execution_count": 37
        }
      ]
    },
    {
      "cell_type": "code",
      "source": [
        "url = '960-425-059-0'\n",
        "pattern = '^doi'\n",
        "re.findall(pattern,url)"
      ],
      "metadata": {
        "id": "NiMHV1Ew_Fu3"
      },
      "execution_count": null,
      "outputs": []
    },
    {
      "cell_type": "code",
      "source": [
        "a1 = np.random.rand(4)\n",
        "a2 = np.random.rand(4, 1)\n",
        "a3 = np.array([[1, 2, 3, 4]])\n",
        "a4 = np.arange(1, 4, 1)\n",
        "a5 = np.linspace(1 ,4, 4)"
      ],
      "metadata": {
        "id": "bBrT60FtM4wz"
      },
      "execution_count": null,
      "outputs": []
    },
    {
      "cell_type": "code",
      "source": [
        "t1 = '''Office of Research Administration: (734) 647-6333 | 4325 North Quad\n",
        "Office of Budget and Financial Administration: (734) 647-8044 | 309 Maynard, Suite 205\n",
        "Health Informatics Program: (734) 763-2285 | 333 Maynard, Suite 500\n",
        "Office of the Dean: (734) 647-3576 | 4322 North Quad\n",
        "UMSI Engagement Center: (734) 763-1251 | 777 North University\n",
        "Faculty Adminstrative Support Staff: (734) 764-9376 | 4322 North Quad'''"
      ],
      "metadata": {
        "id": "aObAX-MkND7P"
      },
      "execution_count": null,
      "outputs": []
    },
    {
      "cell_type": "code",
      "source": [
        "pat = '[(\\d)]+ \\d+\\-\\d{1,4} \\| \\d+'\n",
        "pat = '[(]\\d{3}[)]\\d{3}[-]\\d{4}'\n",
        "re.findall(pat,t1)"
      ],
      "metadata": {
        "colab": {
          "base_uri": "https://localhost:8080/"
        },
        "id": "xikNplTzNiRQ",
        "outputId": "3aecab99-ae98-4e41-9c80-465769f09593"
      },
      "execution_count": null,
      "outputs": [
        {
          "output_type": "execute_result",
          "data": {
            "text/plain": [
              "[]"
            ]
          },
          "metadata": {},
          "execution_count": 75
        }
      ]
    },
    {
      "cell_type": "code",
      "source": [
        "import numpy as np\n",
        "import pandas as pd\n",
        "series =  pd.Series(np.random.randint(0,1000,10000))"
      ],
      "metadata": {
        "id": "1YN90-4kNmOo"
      },
      "execution_count": 1,
      "outputs": []
    },
    {
      "cell_type": "code",
      "source": [
        "series.head()"
      ],
      "metadata": {
        "colab": {
          "base_uri": "https://localhost:8080/"
        },
        "id": "QhO0skfqq-aW",
        "outputId": "6e74f6e6-29a0-426b-ddd6-61c27b54a078"
      },
      "execution_count": 2,
      "outputs": [
        {
          "output_type": "execute_result",
          "data": {
            "text/plain": [
              "0    611\n",
              "1    548\n",
              "2    703\n",
              "3    265\n",
              "4    285\n",
              "dtype: int64"
            ]
          },
          "metadata": {},
          "execution_count": 2
        }
      ]
    },
    {
      "cell_type": "code",
      "source": [
        "%%timeit -n 100\n",
        "sum = 0\n",
        "for i in series:\n",
        "  sum += i\n",
        "avg = sum/len(series)"
      ],
      "metadata": {
        "colab": {
          "base_uri": "https://localhost:8080/"
        },
        "id": "LqCNNBIgq_ng",
        "outputId": "604c4c95-a39d-46bf-f4ed-338a36142547"
      },
      "execution_count": 4,
      "outputs": [
        {
          "output_type": "stream",
          "name": "stdout",
          "text": [
            "1.34 ms ± 40.9 µs per loop (mean ± std. dev. of 7 runs, 100 loops each)\n"
          ]
        }
      ]
    },
    {
      "cell_type": "code",
      "source": [
        "%%timeit -n 100\n",
        "sum = np.sum(series)\n",
        "avg = sum/len(series)"
      ],
      "metadata": {
        "colab": {
          "base_uri": "https://localhost:8080/"
        },
        "id": "j9XC2g-9r555",
        "outputId": "bdb501c6-c76c-496b-b361-61a11830a4f6"
      },
      "execution_count": 5,
      "outputs": [
        {
          "output_type": "stream",
          "name": "stdout",
          "text": [
            "67.6 µs ± 20.3 µs per loop (mean ± std. dev. of 7 runs, 100 loops each)\n"
          ]
        }
      ]
    },
    {
      "cell_type": "code",
      "source": [
        "%%timeit -n 10\n",
        "series =  pd.Series(np.random.randint(0,1000,10000))\n",
        "series += 2"
      ],
      "metadata": {
        "colab": {
          "base_uri": "https://localhost:8080/"
        },
        "id": "wkefIjgQsGCW",
        "outputId": "4b39d175-128a-4c1a-dcf3-ceebdb80e1bc"
      },
      "execution_count": 7,
      "outputs": [
        {
          "output_type": "stream",
          "name": "stdout",
          "text": [
            "323 µs ± 183 µs per loop (mean ± std. dev. of 7 runs, 10 loops each)\n"
          ]
        }
      ]
    },
    {
      "cell_type": "code",
      "source": [
        "# here the computation is reduced due to the vectorization\n",
        "%%timeit -n 10\n",
        "series = pd.Series(np.random.randint(0,10000,10000))\n",
        "for label,value in series.iteritems():\n",
        "  series[label] = value + 2"
      ],
      "metadata": {
        "colab": {
          "base_uri": "https://localhost:8080/"
        },
        "id": "U95Y3dRLs2W-",
        "outputId": "bc2668d3-15f1-4958-f6e2-7f8bc6ed197a"
      },
      "execution_count": 11,
      "outputs": [
        {
          "output_type": "stream",
          "name": "stdout",
          "text": [
            "54.2 ms ± 988 µs per loop (mean ± std. dev. of 7 runs, 10 loops each)\n"
          ]
        }
      ]
    },
    {
      "cell_type": "code",
      "source": [],
      "metadata": {
        "id": "slik789ptR7G"
      },
      "execution_count": null,
      "outputs": []
    }
  ]
}
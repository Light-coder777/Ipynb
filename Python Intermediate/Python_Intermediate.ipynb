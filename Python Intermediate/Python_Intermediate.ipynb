{
  "cells": [
    {
      "cell_type": "markdown",
      "metadata": {
        "id": "wxZUoFpXPN9g"
      },
      "source": [
        "### List"
      ]
    },
    {
      "cell_type": "code",
      "execution_count": 1,
      "metadata": {
        "colab": {
          "base_uri": "https://localhost:8080/"
        },
        "id": "lIYdn1woOS1n",
        "outputId": "abbd069a-bf08-4364-a078-faa2cfd39169"
      },
      "outputs": [
        {
          "name": "stdout",
          "output_type": "stream",
          "text": [
            "['banaana', 'nice']\n"
          ]
        }
      ],
      "source": [
        "list1 = ['banaana','nice']\n",
        "print(list1)"
      ]
    },
    {
      "cell_type": "code",
      "execution_count": 2,
      "metadata": {
        "colab": {
          "base_uri": "https://localhost:8080/"
        },
        "id": "Nz9XzxfDJ_lh",
        "outputId": "3821d44b-7481-431e-b795-c61445a3b542"
      },
      "outputs": [
        {
          "name": "stdout",
          "output_type": "stream",
          "text": [
            "[]\n"
          ]
        }
      ],
      "source": [
        "list2 = list()\n",
        "print(list2)"
      ]
    },
    {
      "cell_type": "code",
      "execution_count": 3,
      "metadata": {
        "id": "es467K4-KFOZ"
      },
      "outputs": [],
      "source": [
        "list1.insert(1,\"blueberry\")"
      ]
    },
    {
      "cell_type": "code",
      "execution_count": 4,
      "metadata": {
        "colab": {
          "base_uri": "https://localhost:8080/",
          "height": 35
        },
        "id": "TF7Qb54AKiGa",
        "outputId": "4726e2bf-8e4e-417b-c9d5-523443944b75"
      },
      "outputs": [
        {
          "data": {
            "text/plain": [
              "'nice'"
            ]
          },
          "execution_count": 4,
          "metadata": {},
          "output_type": "execute_result"
        }
      ],
      "source": [
        "list1.pop()"
      ]
    },
    {
      "cell_type": "code",
      "execution_count": 5,
      "metadata": {
        "colab": {
          "base_uri": "https://localhost:8080/"
        },
        "id": "EUa3E522Kklf",
        "outputId": "f8aa145d-dfcc-44b1-fcad-21122362f9d2"
      },
      "outputs": [
        {
          "data": {
            "text/plain": [
              "['banaana', 'blueberry']"
            ]
          },
          "execution_count": 5,
          "metadata": {},
          "output_type": "execute_result"
        }
      ],
      "source": [
        "list1"
      ]
    },
    {
      "cell_type": "code",
      "execution_count": 6,
      "metadata": {
        "colab": {
          "base_uri": "https://localhost:8080/"
        },
        "id": "8KKa8xP-KlyU",
        "outputId": "9975a683-6e8e-45d6-c72e-634e90c8433b"
      },
      "outputs": [
        {
          "data": {
            "text/plain": [
              "['banaana', 'blueberry']"
            ]
          },
          "execution_count": 6,
          "metadata": {},
          "output_type": "execute_result"
        }
      ],
      "source": [
        "list1.sort()\n",
        "list1"
      ]
    },
    {
      "cell_type": "code",
      "execution_count": 7,
      "metadata": {
        "id": "MtPTyKYLMCN4"
      },
      "outputs": [],
      "source": [
        "list1 = [1,4,8,-1,2]\n",
        "list1.sort()"
      ]
    },
    {
      "cell_type": "code",
      "execution_count": 8,
      "metadata": {
        "colab": {
          "base_uri": "https://localhost:8080/"
        },
        "id": "km_DpNbKMIPq",
        "outputId": "186506ad-50b0-4466-ca58-2671902fd2eb"
      },
      "outputs": [
        {
          "data": {
            "text/plain": [
              "[-1, 1, 2, 4, 8]"
            ]
          },
          "execution_count": 8,
          "metadata": {},
          "output_type": "execute_result"
        }
      ],
      "source": [
        "list1"
      ]
    },
    {
      "cell_type": "code",
      "execution_count": 9,
      "metadata": {
        "colab": {
          "base_uri": "https://localhost:8080/"
        },
        "id": "6cwFD-bHMKnG",
        "outputId": "8b028784-5fe1-40f8-a7d5-731b146548a1"
      },
      "outputs": [
        {
          "data": {
            "text/plain": [
              "[-5, 2, 3, 6, 9, 9]"
            ]
          },
          "execution_count": 9,
          "metadata": {},
          "output_type": "execute_result"
        }
      ],
      "source": [
        "list1 = [9,6,9,2,3,-5]\n",
        "nlist = sorted(list1)\n",
        "nlist"
      ]
    },
    {
      "cell_type": "code",
      "execution_count": 10,
      "metadata": {
        "colab": {
          "base_uri": "https://localhost:8080/"
        },
        "id": "awhL9wEzMUu7",
        "outputId": "a34407de-d547-4231-8b00-3876eea611f9"
      },
      "outputs": [
        {
          "data": {
            "text/plain": [
              "[0, 0, 0, 0, 0]"
            ]
          },
          "execution_count": 10,
          "metadata": {},
          "output_type": "execute_result"
        }
      ],
      "source": [
        "mylist = [0]*5\n",
        "mylist"
      ]
    },
    {
      "cell_type": "code",
      "execution_count": 11,
      "metadata": {
        "colab": {
          "base_uri": "https://localhost:8080/"
        },
        "id": "6MRxgzDeMgVz",
        "outputId": "4fd40fb7-6996-412e-ab54-af33483c4b9c"
      },
      "outputs": [
        {
          "data": {
            "text/plain": [
              "[0, 0, 0, 6, 2, -5]"
            ]
          },
          "execution_count": 11,
          "metadata": {},
          "output_type": "execute_result"
        }
      ],
      "source": [
        "mylist += list1\n",
        "a = mylist[::2] # This is a step function with step 2\n",
        "a"
      ]
    },
    {
      "cell_type": "code",
      "execution_count": null,
      "metadata": {
        "id": "Esba4-ZDOFh9"
      },
      "outputs": [],
      "source": []
    },
    {
      "cell_type": "code",
      "execution_count": 12,
      "metadata": {
        "id": "8Z74f-DjNC-t"
      },
      "outputs": [],
      "source": [
        "a = mylist[::-1] # This is used to reverse the list"
      ]
    },
    {
      "cell_type": "markdown",
      "metadata": {
        "id": "4KHliuojNlKr"
      },
      "source": [
        "#### Different ways to copy a list in python"
      ]
    },
    {
      "cell_type": "code",
      "execution_count": 13,
      "metadata": {
        "colab": {
          "base_uri": "https://localhost:8080/"
        },
        "id": "R-GpyH1gNmWA",
        "outputId": "bde622a3-255f-40d7-9d9b-158406ff49b5"
      },
      "outputs": [
        {
          "name": "stdout",
          "output_type": "stream",
          "text": [
            "['banaana', 'jackfruit', 'chocolate']\n",
            "['banaana', 'jackfruit', 'chocolate', 'lemon']\n"
          ]
        }
      ],
      "source": [
        "# Using copy function\n",
        "list_org = ['banaana','jackfruit','chocolate']\n",
        "list_cpy = list_org.copy()\n",
        "list_cpy.append(\"lemon\")\n",
        "print(list_org)\n",
        "print(list_cpy)"
      ]
    },
    {
      "cell_type": "code",
      "execution_count": 14,
      "metadata": {
        "colab": {
          "base_uri": "https://localhost:8080/"
        },
        "id": "2rsGAGQuOD0l",
        "outputId": "c5f4238b-b1f0-4ea2-e936-66059c5d9e01"
      },
      "outputs": [
        {
          "name": "stdout",
          "output_type": "stream",
          "text": [
            "['banaana', 'jackfruit', 'chocolate']\n",
            "['banaana', 'jackfruit', 'chocolate', 'lemon']\n"
          ]
        }
      ],
      "source": [
        "list_cpy = list_org[:]\n",
        "list_cpy.append(\"lemon\")\n",
        "print(list_org)\n",
        "print(list_cpy)"
      ]
    },
    {
      "cell_type": "code",
      "execution_count": 15,
      "metadata": {
        "colab": {
          "base_uri": "https://localhost:8080/"
        },
        "id": "f5_vAwBCOK9P",
        "outputId": "fd855ca6-8dba-43e2-e9ff-fcf485dc30a1"
      },
      "outputs": [
        {
          "name": "stdout",
          "output_type": "stream",
          "text": [
            "['banaana', 'jackfruit', 'chocolate']\n",
            "['banaana', 'jackfruit', 'chocolate', 'lemon']\n"
          ]
        }
      ],
      "source": [
        "list_cpy = list(list_org)\n",
        "list_cpy.append(\"lemon\")\n",
        "print(list_org)\n",
        "print(list_cpy)"
      ]
    },
    {
      "cell_type": "markdown",
      "metadata": {
        "id": "2R4AWQEHO6zA"
      },
      "source": [
        "### Tuple - Immutable"
      ]
    },
    {
      "cell_type": "code",
      "execution_count": 15,
      "metadata": {
        "colab": {
          "base_uri": "https://localhost:8080/"
        },
        "id": "WpgXZ01OPKem",
        "outputId": "aa4f0a15-bb44-4ff6-937b-4badb841956a"
      },
      "outputs": [
        {
          "name": "stdout",
          "output_type": "stream",
          "text": [
            "('50', 90, 'banaa')\n"
          ]
        }
      ],
      "source": [
        "mytuple = \"50\",90,\"banaa\"\n",
        "print(mytuple)"
      ]
    },
    {
      "cell_type": "code",
      "execution_count": 16,
      "metadata": {
        "colab": {
          "base_uri": "https://localhost:8080/"
        },
        "id": "fjjEa8YNPbrv",
        "outputId": "2e0d67c2-cf0e-4e1c-b020-0da2707e6df5"
      },
      "outputs": [
        {
          "name": "stdout",
          "output_type": "stream",
          "text": [
            "(50,)\n"
          ]
        }
      ],
      "source": [
        "tu1 = (50,) # Defining tuple with only one element\n",
        "print(tu1)"
      ]
    },
    {
      "cell_type": "code",
      "execution_count": 17,
      "metadata": {
        "colab": {
          "base_uri": "https://localhost:8080/"
        },
        "id": "h3SxWWOxPoKn",
        "outputId": "0649ec04-9879-4d91-8d61-dc70a059714b"
      },
      "outputs": [
        {
          "data": {
            "text/plain": [
              "tuple"
            ]
          },
          "execution_count": 17,
          "metadata": {},
          "output_type": "execute_result"
        }
      ],
      "source": [
        "type(tu1)"
      ]
    },
    {
      "cell_type": "code",
      "execution_count": 18,
      "metadata": {
        "colab": {
          "base_uri": "https://localhost:8080/"
        },
        "id": "kZMB7lauQG7Y",
        "outputId": "726d71f1-0959-4bfe-fc5b-c76137a1d6a4"
      },
      "outputs": [
        {
          "data": {
            "text/plain": [
              "[9, 6, 9, 2, 3, -5]"
            ]
          },
          "execution_count": 18,
          "metadata": {},
          "output_type": "execute_result"
        }
      ],
      "source": [
        "list1"
      ]
    },
    {
      "cell_type": "code",
      "execution_count": 20,
      "metadata": {
        "colab": {
          "base_uri": "https://localhost:8080/"
        },
        "id": "9-xzvEOtQKOJ",
        "outputId": "1f967ea5-fd93-4696-d898-4ac465b1349c"
      },
      "outputs": [
        {
          "data": {
            "text/plain": [
              "(9, 6, 9, 2, 3, -5)"
            ]
          },
          "execution_count": 20,
          "metadata": {},
          "output_type": "execute_result"
        }
      ],
      "source": [
        "tu2 = tuple(list1)\n",
        "tu2"
      ]
    },
    {
      "cell_type": "code",
      "execution_count": 22,
      "metadata": {
        "colab": {
          "base_uri": "https://localhost:8080/"
        },
        "id": "VMcUjuJoQNS3",
        "outputId": "c67c551d-7d0c-473f-cc47-96f0f2a4afea"
      },
      "outputs": [
        {
          "name": "stdout",
          "output_type": "stream",
          "text": [
            "(-5, 3, 2, 9, 6, 9)\n"
          ]
        }
      ],
      "source": [
        "print(tu2[::-1])"
      ]
    },
    {
      "cell_type": "code",
      "execution_count": 23,
      "metadata": {
        "colab": {
          "base_uri": "https://localhost:8080/"
        },
        "id": "fycOJL2JQiQz",
        "outputId": "5b72d498-0682-4a1b-a704-506523fec295"
      },
      "outputs": [
        {
          "name": "stdout",
          "output_type": "stream",
          "text": [
            "9\n",
            "6\n",
            "9\n",
            "2\n",
            "3\n",
            "-5\n"
          ]
        }
      ],
      "source": [
        "for i in tu2:\n",
        "  print(i)"
      ]
    },
    {
      "cell_type": "code",
      "execution_count": 24,
      "metadata": {
        "colab": {
          "base_uri": "https://localhost:8080/"
        },
        "id": "HRqsNckvQwIG",
        "outputId": "be96dcb4-aac9-45b3-eb0c-d0adf4cc323d"
      },
      "outputs": [
        {
          "data": {
            "text/plain": [
              "6"
            ]
          },
          "execution_count": 24,
          "metadata": {},
          "output_type": "execute_result"
        }
      ],
      "source": [
        "len(tu2)"
      ]
    },
    {
      "cell_type": "code",
      "execution_count": 25,
      "metadata": {
        "colab": {
          "base_uri": "https://localhost:8080/"
        },
        "id": "hcfpD0eaQ4wJ",
        "outputId": "ada4bd3b-10e2-472d-9dd7-e20eebff700b"
      },
      "outputs": [
        {
          "data": {
            "text/plain": [
              "2"
            ]
          },
          "execution_count": 25,
          "metadata": {},
          "output_type": "execute_result"
        }
      ],
      "source": [
        "tu2.count(9)"
      ]
    },
    {
      "cell_type": "code",
      "execution_count": 26,
      "metadata": {
        "colab": {
          "base_uri": "https://localhost:8080/"
        },
        "id": "RxRfNjbUQ-m0",
        "outputId": "fd852706-ddf9-4e3a-dcff-2724ad6acfd7"
      },
      "outputs": [
        {
          "data": {
            "text/plain": [
              "3"
            ]
          },
          "execution_count": 26,
          "metadata": {},
          "output_type": "execute_result"
        }
      ],
      "source": [
        "tu2.index(2)"
      ]
    },
    {
      "cell_type": "code",
      "execution_count": 27,
      "metadata": {
        "colab": {
          "base_uri": "https://localhost:8080/"
        },
        "id": "EHV2a4DZRDwX",
        "outputId": "146d2669-6828-4d5f-90c7-28718ec68bc9"
      },
      "outputs": [
        {
          "data": {
            "text/plain": [
              "[9, 6, 9, 2, 3, -5]"
            ]
          },
          "execution_count": 27,
          "metadata": {},
          "output_type": "execute_result"
        }
      ],
      "source": [
        "mylist = list(tu2)\n",
        "mylist"
      ]
    },
    {
      "cell_type": "code",
      "execution_count": 28,
      "metadata": {
        "colab": {
          "base_uri": "https://localhost:8080/"
        },
        "id": "_ymfJS3GRPpz",
        "outputId": "b3f1799c-56be-4423-f5f8-ee619d0cbab0"
      },
      "outputs": [
        {
          "data": {
            "text/plain": [
              "(9, 6, 9, 2, 3, -5)"
            ]
          },
          "execution_count": 28,
          "metadata": {},
          "output_type": "execute_result"
        }
      ],
      "source": [
        "tu2 = tuple(mylist)\n",
        "tu2"
      ]
    },
    {
      "cell_type": "code",
      "execution_count": 29,
      "metadata": {
        "colab": {
          "base_uri": "https://localhost:8080/",
          "height": 165
        },
        "id": "Y8A4LGXORSI-",
        "outputId": "c30751c6-57c9-4dc2-c01f-7e3f6b4f1ae6"
      },
      "outputs": [
        {
          "ename": "AttributeError",
          "evalue": "ignored",
          "output_type": "error",
          "traceback": [
            "\u001b[0;31m---------------------------------------------------------------------------\u001b[0m",
            "\u001b[0;31mAttributeError\u001b[0m                            Traceback (most recent call last)",
            "\u001b[0;32m<ipython-input-29-486505871f8c>\u001b[0m in \u001b[0;36m<module>\u001b[0;34m\u001b[0m\n\u001b[0;32m----> 1\u001b[0;31m \u001b[0mtu2\u001b[0m\u001b[0;34m.\u001b[0m\u001b[0mappend\u001b[0m\u001b[0;34m(\u001b[0m\u001b[0;36m95\u001b[0m\u001b[0;34m)\u001b[0m\u001b[0;34m\u001b[0m\u001b[0;34m\u001b[0m\u001b[0m\n\u001b[0m",
            "\u001b[0;31mAttributeError\u001b[0m: 'tuple' object has no attribute 'append'"
          ]
        }
      ],
      "source": [
        "tu2.append(95)"
      ]
    },
    {
      "cell_type": "code",
      "execution_count": 30,
      "metadata": {
        "colab": {
          "base_uri": "https://localhost:8080/"
        },
        "id": "vOlc59ywRjob",
        "outputId": "5b8da8a1-44cd-4a99-f5c6-ce367431815d"
      },
      "outputs": [
        {
          "data": {
            "text/plain": [
              "9"
            ]
          },
          "execution_count": 30,
          "metadata": {},
          "output_type": "execute_result"
        }
      ],
      "source": [
        "tu2[0]"
      ]
    },
    {
      "cell_type": "code",
      "execution_count": 31,
      "metadata": {
        "colab": {
          "base_uri": "https://localhost:8080/",
          "height": 165
        },
        "id": "DCNtPivLRlIg",
        "outputId": "06694373-5de5-4a16-b33d-de96f79dc8be"
      },
      "outputs": [
        {
          "ename": "TypeError",
          "evalue": "ignored",
          "output_type": "error",
          "traceback": [
            "\u001b[0;31m---------------------------------------------------------------------------\u001b[0m",
            "\u001b[0;31mTypeError\u001b[0m                                 Traceback (most recent call last)",
            "\u001b[0;32m<ipython-input-31-c17aa1cf6642>\u001b[0m in \u001b[0;36m<module>\u001b[0;34m\u001b[0m\n\u001b[0;32m----> 1\u001b[0;31m \u001b[0mtu2\u001b[0m\u001b[0;34m[\u001b[0m\u001b[0;36m0\u001b[0m\u001b[0;34m]\u001b[0m \u001b[0;34m=\u001b[0m \u001b[0;36m5\u001b[0m\u001b[0;34m\u001b[0m\u001b[0;34m\u001b[0m\u001b[0m\n\u001b[0m",
            "\u001b[0;31mTypeError\u001b[0m: 'tuple' object does not support item assignment"
          ]
        }
      ],
      "source": [
        "tu2[0] = 5"
      ]
    },
    {
      "cell_type": "code",
      "execution_count": 32,
      "metadata": {
        "colab": {
          "base_uri": "https://localhost:8080/"
        },
        "id": "pda7EhMYRmr5",
        "outputId": "181f9808-90a0-4d40-ed68-0840c3e90567"
      },
      "outputs": [
        {
          "name": "stdout",
          "output_type": "stream",
          "text": [
            "9\n",
            "[6, 9, 2, 3]\n",
            "-5\n"
          ]
        }
      ],
      "source": [
        "i1,*i2,i3 = tu2\n",
        "print(i1)\n",
        "print(i2)\n",
        "print(i3)"
      ]
    },
    {
      "cell_type": "code",
      "execution_count": 33,
      "metadata": {
        "colab": {
          "base_uri": "https://localhost:8080/"
        },
        "id": "E5nX1DevR6zw",
        "outputId": "101cd321-eb7a-4205-b771-e14238623ca7"
      },
      "outputs": [
        {
          "name": "stdout",
          "output_type": "stream",
          "text": [
            "(9, 6, 9, 2, 3, -5)\n",
            "[9, 6, 9, 2, 3, -5]\n"
          ]
        }
      ],
      "source": [
        "print(tu2)\n",
        "print(mylist)"
      ]
    },
    {
      "cell_type": "code",
      "execution_count": 35,
      "metadata": {
        "colab": {
          "base_uri": "https://localhost:8080/"
        },
        "id": "Nx3KXLx4SJnP",
        "outputId": "87e60e21-58b5-4d57-b989-09b826a21938"
      },
      "outputs": [
        {
          "name": "stdout",
          "output_type": "stream",
          "text": [
            "144 bytes\n",
            "104 bytes\n"
          ]
        }
      ],
      "source": [
        "## Tuple is almost 10x faster in retrieving data\n",
        "import sys\n",
        "print(sys.getsizeof(mylist),\"bytes\")\n",
        "print(sys.getsizeof(tu2),\"bytes\")"
      ]
    },
    {
      "cell_type": "markdown",
      "metadata": {
        "id": "XkGX_zngSTr0"
      },
      "source": [
        "### Dictionaries - {Key:Value} - Mutable"
      ]
    },
    {
      "cell_type": "code",
      "execution_count": 36,
      "metadata": {
        "colab": {
          "base_uri": "https://localhost:8080/"
        },
        "id": "ubqMuJMHStRQ",
        "outputId": "88cc95ca-338e-4c59-b8bb-675772b28283"
      },
      "outputs": [
        {
          "data": {
            "text/plain": [
              "{'name': 'Sarvagya', 'SAPID': '30'}"
            ]
          },
          "execution_count": 36,
          "metadata": {},
          "output_type": "execute_result"
        }
      ],
      "source": [
        "mydict = {\"name\":\"Sarvagya\",\"SAPID\":\"30\"}\n",
        "mydict"
      ]
    },
    {
      "cell_type": "code",
      "execution_count": 37,
      "metadata": {
        "colab": {
          "base_uri": "https://localhost:8080/"
        },
        "id": "yl2pYEH7St3y",
        "outputId": "bcab92b4-8460-45ba-cf2c-36d6a45ab2f6"
      },
      "outputs": [
        {
          "data": {
            "text/plain": [
              "{'name': 'Sarvagya', 'SAPID': 30}"
            ]
          },
          "execution_count": 37,
          "metadata": {},
          "output_type": "execute_result"
        }
      ],
      "source": [
        "mydict1 = dict(name=\"Sarvagya\",SAPID=30)\n",
        "mydict1"
      ]
    },
    {
      "cell_type": "code",
      "execution_count": 38,
      "metadata": {
        "colab": {
          "base_uri": "https://localhost:8080/"
        },
        "id": "-ZSlPJLWSt70",
        "outputId": "0cf704ca-7732-41b5-9ccb-6df2782ce2d6"
      },
      "outputs": [
        {
          "data": {
            "text/plain": [
              "{'SAPID': '30'}"
            ]
          },
          "execution_count": 38,
          "metadata": {},
          "output_type": "execute_result"
        }
      ],
      "source": [
        "del mydict[\"name\"]\n",
        "mydict"
      ]
    },
    {
      "cell_type": "code",
      "execution_count": 41,
      "metadata": {
        "colab": {
          "base_uri": "https://localhost:8080/",
          "height": 35
        },
        "id": "zHTL1eKZSt_o",
        "outputId": "ea15b334-d838-4fb6-c208-4888b08062f1"
      },
      "outputs": [
        {
          "data": {
            "application/vnd.google.colaboratory.intrinsic+json": {
              "type": "string"
            },
            "text/plain": [
              "'30'"
            ]
          },
          "execution_count": 41,
          "metadata": {},
          "output_type": "execute_result"
        }
      ],
      "source": [
        "mydict.pop('SAPID')"
      ]
    },
    {
      "cell_type": "code",
      "execution_count": 42,
      "metadata": {
        "colab": {
          "base_uri": "https://localhost:8080/"
        },
        "id": "2UrvQzoESuCH",
        "outputId": "a5275b59-6239-4146-c0a3-5b25e992c4a7"
      },
      "outputs": [
        {
          "name": "stdout",
          "output_type": "stream",
          "text": [
            "Sarvagya\n"
          ]
        }
      ],
      "source": [
        "if \"name\" in mydict1:\n",
        "  print(mydict1['name'])"
      ]
    },
    {
      "cell_type": "code",
      "execution_count": 43,
      "metadata": {
        "colab": {
          "base_uri": "https://localhost:8080/"
        },
        "id": "dfo6TpAzSuEc",
        "outputId": "d6d490b2-028a-42dd-9119-b7b74d965796"
      },
      "outputs": [
        {
          "name": "stdout",
          "output_type": "stream",
          "text": [
            "name Sarvagya\n",
            "SAPID 30\n"
          ]
        }
      ],
      "source": [
        "for key,value in mydict1.items():\n",
        "  print(key,value)"
      ]
    },
    {
      "cell_type": "code",
      "execution_count": null,
      "metadata": {
        "id": "6tNNPfuaSuKd"
      },
      "outputs": [],
      "source": [
        "# Like in list dictionary has the same issues inorder to copy each other\n",
        "# copy,\n",
        "dict()"
      ]
    },
    {
      "cell_type": "code",
      "execution_count": 44,
      "metadata": {
        "colab": {
          "base_uri": "https://localhost:8080/"
        },
        "id": "AqNlB3fHVNqc",
        "outputId": "dcda362e-9fe4-4540-ccf6-0e6f4bbe57c0"
      },
      "outputs": [
        {
          "data": {
            "text/plain": [
              "{}"
            ]
          },
          "execution_count": 44,
          "metadata": {},
          "output_type": "execute_result"
        }
      ],
      "source": [
        "mydict"
      ]
    },
    {
      "cell_type": "code",
      "execution_count": 45,
      "metadata": {
        "colab": {
          "base_uri": "https://localhost:8080/"
        },
        "id": "p7_SfiSEVWDB",
        "outputId": "e438f1df-a1c3-4247-ecf4-d6f5ecfe7538"
      },
      "outputs": [
        {
          "data": {
            "text/plain": [
              "{'name': 'Sarvagya', 'SAPID': 30}"
            ]
          },
          "execution_count": 45,
          "metadata": {},
          "output_type": "execute_result"
        }
      ],
      "source": [
        "mydict1"
      ]
    },
    {
      "cell_type": "code",
      "execution_count": 47,
      "metadata": {
        "colab": {
          "base_uri": "https://localhost:8080/"
        },
        "id": "994u7JA6VW4S",
        "outputId": "863d2246-30be-4f0c-ceea-c2c8b57d71b8"
      },
      "outputs": [
        {
          "data": {
            "text/plain": [
              "{'name': 'Sarvagya', 'SAPID': 30}"
            ]
          },
          "execution_count": 47,
          "metadata": {},
          "output_type": "execute_result"
        }
      ],
      "source": [
        "mydict.update(mydict1)\n",
        "mydict"
      ]
    },
    {
      "cell_type": "code",
      "execution_count": null,
      "metadata": {
        "id": "KV3SQo_FWFJe"
      },
      "outputs": [],
      "source": [
        "# Also dictionary does nt take any index"
      ]
    },
    {
      "cell_type": "markdown",
      "metadata": {
        "id": "lTDhuLmcVYkF"
      },
      "source": [
        "### Sets - Unordered , mutable,no duplicates - Advanced tuple"
      ]
    },
    {
      "cell_type": "code",
      "execution_count": 48,
      "metadata": {
        "colab": {
          "base_uri": "https://localhost:8080/"
        },
        "id": "SPrhNhvgV_ZA",
        "outputId": "8971a0a4-3eb1-474e-f018-c21b7ae06b12"
      },
      "outputs": [
        {
          "data": {
            "text/plain": [
              "{'H', 'e', 'l', 'o'}"
            ]
          },
          "execution_count": 48,
          "metadata": {},
          "output_type": "execute_result"
        }
      ],
      "source": [
        "myset = set(\"Hello\")\n",
        "myset"
      ]
    },
    {
      "cell_type": "code",
      "execution_count": 49,
      "metadata": {
        "id": "IljQNKd7V_bk"
      },
      "outputs": [],
      "source": [
        "myset.add(5)\n",
        "myset.add(9)\n",
        "myset.add(2)\n",
        "myset.add(5)"
      ]
    },
    {
      "cell_type": "code",
      "execution_count": 50,
      "metadata": {
        "colab": {
          "base_uri": "https://localhost:8080/"
        },
        "id": "SqWVsq8MWgoQ",
        "outputId": "2d4de327-7335-4dbe-f09a-d4b07090b47e"
      },
      "outputs": [
        {
          "data": {
            "text/plain": [
              "{2, 5, 9, 'H', 'e', 'l', 'o'}"
            ]
          },
          "execution_count": 50,
          "metadata": {},
          "output_type": "execute_result"
        }
      ],
      "source": [
        "myset"
      ]
    },
    {
      "cell_type": "code",
      "execution_count": 51,
      "metadata": {
        "id": "agj5mBZNV_gl"
      },
      "outputs": [],
      "source": [
        "myset.remove(2)\n",
        "myset.remove(5)\n",
        "myset.remove(9)\n",
        "# myset.remove(2)"
      ]
    },
    {
      "cell_type": "code",
      "execution_count": 52,
      "metadata": {
        "colab": {
          "base_uri": "https://localhost:8080/"
        },
        "id": "BCHRBWEiV_jq",
        "outputId": "ee655060-8fb9-4702-a4f4-6a0f273e80fd"
      },
      "outputs": [
        {
          "data": {
            "text/plain": [
              "{'H', 'e', 'l', 'o'}"
            ]
          },
          "execution_count": 52,
          "metadata": {},
          "output_type": "execute_result"
        }
      ],
      "source": [
        "myset"
      ]
    },
    {
      "cell_type": "code",
      "execution_count": 53,
      "metadata": {
        "colab": {
          "base_uri": "https://localhost:8080/"
        },
        "id": "4Vw6h6z5V_mQ",
        "outputId": "723ef16c-4fe3-4910-df1c-4097ac3d548f"
      },
      "outputs": [
        {
          "name": "stdout",
          "output_type": "stream",
          "text": [
            "e\n",
            "H\n",
            "o\n",
            "l\n"
          ]
        }
      ],
      "source": [
        "for i in myset:\n",
        "  print(i)"
      ]
    },
    {
      "cell_type": "code",
      "execution_count": 54,
      "metadata": {
        "colab": {
          "base_uri": "https://localhost:8080/"
        },
        "id": "NtZ4IARzWt4_",
        "outputId": "132af271-b0ad-458b-b2cc-70d9aa4b710d"
      },
      "outputs": [
        {
          "data": {
            "text/plain": [
              "{0, 1, 2, 3, 4, 5, 6, 7, 8, 9}"
            ]
          },
          "execution_count": 54,
          "metadata": {},
          "output_type": "execute_result"
        }
      ],
      "source": [
        "odd = {1,3,5,7,9}\n",
        "evens = {0,2,4,6,8}\n",
        "primes = {2,3,5,7}\n",
        "u = odd.union(evens)\n",
        "u"
      ]
    },
    {
      "cell_type": "code",
      "execution_count": 55,
      "metadata": {
        "colab": {
          "base_uri": "https://localhost:8080/"
        },
        "id": "Z3-V5hpFXHuU",
        "outputId": "b2debd6f-e1c6-41ec-9de1-82fc612567f9"
      },
      "outputs": [
        {
          "data": {
            "text/plain": [
              "{3, 5, 7}"
            ]
          },
          "execution_count": 55,
          "metadata": {},
          "output_type": "execute_result"
        }
      ],
      "source": [
        "i = odd.intersection(primes)\n",
        "i"
      ]
    },
    {
      "cell_type": "code",
      "execution_count": 56,
      "metadata": {
        "colab": {
          "base_uri": "https://localhost:8080/"
        },
        "id": "pQ0QJ81jXPai",
        "outputId": "23d8063f-33dd-46a5-91d7-0c4b0e566626"
      },
      "outputs": [
        {
          "data": {
            "text/plain": [
              "{0, 4, 6, 8}"
            ]
          },
          "execution_count": 56,
          "metadata": {},
          "output_type": "execute_result"
        }
      ],
      "source": [
        "j = evens.difference(primes)\n",
        "j"
      ]
    },
    {
      "cell_type": "markdown",
      "metadata": {
        "id": "ebOg5wJVXe1f"
      },
      "source": [
        "###String - Ordered Immutable "
      ]
    },
    {
      "cell_type": "code",
      "execution_count": null,
      "metadata": {
        "id": "FNCKEJoEZ5EO"
      },
      "outputs": [],
      "source": []
    },
    {
      "cell_type": "code",
      "execution_count": null,
      "metadata": {
        "id": "ZQv3s7wIZ5II"
      },
      "outputs": [],
      "source": []
    },
    {
      "cell_type": "code",
      "execution_count": null,
      "metadata": {
        "id": "52GAgeGqZ5Ny"
      },
      "outputs": [],
      "source": []
    }
  ],
  "metadata": {
    "colab": {
      "name": "scratchpad",
      "provenance": []
    },
    "kernelspec": {
      "display_name": "Python 3.10.6 64-bit",
      "language": "python",
      "name": "python3"
    },
    "language_info": {
      "codemirror_mode": {
        "name": "ipython",
        "version": 3
      },
      "file_extension": ".py",
      "mimetype": "text/x-python",
      "name": "python",
      "nbconvert_exporter": "python",
      "pygments_lexer": "ipython3",
      "version": "3.10.6"
    },
    "vscode": {
      "interpreter": {
        "hash": "d3e10ef16274dd72e574b8fa73b58450b957d8421a2901baded3cca26fcf5dda"
      }
    }
  },
  "nbformat": 4,
  "nbformat_minor": 0
}

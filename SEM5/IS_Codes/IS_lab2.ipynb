{
  "nbformat": 4,
  "nbformat_minor": 0,
  "metadata": {
    "colab": {
      "provenance": [],
      "collapsed_sections": [],
      "authorship_tag": "ABX9TyPJO578aUChGg0ptfAdxKxe",
      "include_colab_link": true
    },
    "kernelspec": {
      "name": "python3",
      "display_name": "Python 3"
    },
    "language_info": {
      "name": "python"
    }
  },
  "cells": [
    {
      "cell_type": "markdown",
      "metadata": {
        "id": "view-in-github",
        "colab_type": "text"
      },
      "source": [
        "<a href=\"https://colab.research.google.com/github/Light-coder777/Ipynb/blob/main/SEM5/IS_Codes/IS_lab2.ipynb\" target=\"_parent\"><img src=\"https://colab.research.google.com/assets/colab-badge.svg\" alt=\"Open In Colab\"/></a>"
      ]
    },
    {
      "cell_type": "markdown",
      "source": [
        "### **Sarvagya Singh - 60009200030**\n",
        "### **IS Lab 2**"
      ],
      "metadata": {
        "id": "NNpXaz26bpwH"
      }
    },
    {
      "cell_type": "code",
      "execution_count": 1,
      "metadata": {
        "id": "GIPBLbGRsR74"
      },
      "outputs": [],
      "source": [
        "import numpy as np\n",
        "pt = 'COLUMNAR TRANSPOSITION'\n",
        "pt = 'SARVAGYA IS HERE'\n",
        "key='HEAVEN'"
      ]
    },
    {
      "cell_type": "code",
      "source": [
        "def blanker(new_pt):\n",
        "  new_pt = ''\n",
        "  for i in pt:\n",
        "    if (ord(i)!=32):\n",
        "      new_pt += i \n",
        "  return new_pt"
      ],
      "metadata": {
        "id": "QcEqcsXAw8We"
      },
      "execution_count": 2,
      "outputs": []
    },
    {
      "cell_type": "code",
      "source": [
        "new_pt  = blanker(pt)\n",
        "new_pt"
      ],
      "metadata": {
        "id": "8K1KxrwzEDl4",
        "colab": {
          "base_uri": "https://localhost:8080/",
          "height": 35
        },
        "outputId": "076d4859-d3bd-46ff-a6c5-49c93a6b166c"
      },
      "execution_count": 3,
      "outputs": [
        {
          "output_type": "execute_result",
          "data": {
            "text/plain": [
              "'SARVAGYAISHERE'"
            ],
            "application/vnd.google.colaboratory.intrinsic+json": {
              "type": "string"
            }
          },
          "metadata": {},
          "execution_count": 3
        }
      ]
    },
    {
      "cell_type": "code",
      "source": [
        "def encryption_columnar(pt,key):\n",
        "  tex_l = len(pt)\n",
        "  # key = 'HEAVEN'\n",
        "  col = len(key)\n",
        "  row = tex_l // col + 1\n",
        "  left = tex_l % col\n",
        "\n",
        "  multi = []\n",
        "  index = 0\n",
        "  for i in range(row):\n",
        "    temp = []\n",
        "    for j in range(col):\n",
        "      try:\n",
        "        temp.append(pt[index])\n",
        "        index += 1\n",
        "      except:\n",
        "        temp.append('X')\n",
        "        continue\n",
        "    multi.append(temp)\n",
        "  ind = reader_key(key)\n",
        "\n",
        "  ct = ''\n",
        "  for i in range(1,col+1):\n",
        "    t = ind.index(i)\n",
        "    for j in range(row):\n",
        "      ct += multi[j][t]\n",
        "  return ct"
      ],
      "metadata": {
        "id": "_fF5joNluo64"
      },
      "execution_count": 4,
      "outputs": []
    },
    {
      "cell_type": "code",
      "source": [
        "def reader_key(key):\n",
        "  temper = key\n",
        "  ord1 = []\n",
        "  col = len(key)\n",
        "  for j in range(col):\n",
        "    t = 100000\n",
        "    for i in key:\n",
        "      if(ord(i)<t):\n",
        "        char = i\n",
        "        t = ord(i)\n",
        "    ord1.append([char,j+1])\n",
        "    key = key.replace(char,'',1)\n",
        "    \n",
        "  indexer = []\n",
        "  for i in temper:\n",
        "    for j in ord1:\n",
        "      if j[0] ==  i:\n",
        "        indexer.append(j[1])\n",
        "        ord1.remove(j)\n",
        "        break\n",
        "\n",
        "  return indexer"
      ],
      "metadata": {
        "id": "ZcO9xrTBwESM"
      },
      "execution_count": 5,
      "outputs": []
    },
    {
      "cell_type": "code",
      "source": [
        "ct = encryption_columnar(new_pt,key)\n",
        "ct"
      ],
      "metadata": {
        "colab": {
          "base_uri": "https://localhost:8080/",
          "height": 35
        },
        "id": "UOWcObuduG9Y",
        "outputId": "18242c7a-2a86-4760-8086-9fca80b744fa"
      },
      "execution_count": 6,
      "outputs": [
        {
          "output_type": "execute_result",
          "data": {
            "text/plain": [
              "'RIXAAEAHXSYRGEXVSX'"
            ],
            "application/vnd.google.colaboratory.intrinsic+json": {
              "type": "string"
            }
          },
          "metadata": {},
          "execution_count": 6
        }
      ]
    },
    {
      "cell_type": "code",
      "source": [
        "def decryption_columnar(ct,key):\n",
        "  multi_dt = []\n",
        "  index = 0\n",
        "  col = len(key)\n",
        "  tex_l = len(ct)\n",
        "  row = tex_l // col \n",
        "  left = tex_l % col\n",
        "  for i in range(col):\n",
        "    temp = []\n",
        "    for j in range(row):\n",
        "      try:\n",
        "        temp.append(ct[index])\n",
        "        index += 1\n",
        "      except:\n",
        "        temp.append('X')\n",
        "        continue\n",
        "    multi_dt.append(temp)\n",
        "\n",
        "  ind = reader_key(key)\n",
        "  finale = [0 for i in range(6)]\n",
        "  j = 1\n",
        "  for i in multi_dt:\n",
        "    t = ind.index(j)\n",
        "    finale[t] = i\n",
        "    j+=1\n",
        "\n",
        "  dt = ''\n",
        "  for i in np.transpose(finale):\n",
        "    for j in i:\n",
        "      dt += j\n",
        "  return dt"
      ],
      "metadata": {
        "id": "rDie8Daq5u_9"
      },
      "execution_count": 7,
      "outputs": []
    },
    {
      "cell_type": "code",
      "source": [
        "decryption_columnar(ct,key)"
      ],
      "metadata": {
        "colab": {
          "base_uri": "https://localhost:8080/",
          "height": 35
        },
        "id": "gq8mQTGPCKYB",
        "outputId": "b5efb48e-099b-404d-f9aa-7fff0bbf9ac4"
      },
      "execution_count": 8,
      "outputs": [
        {
          "output_type": "execute_result",
          "data": {
            "text/plain": [
              "'SARVAGYAISHEREXXXX'"
            ],
            "application/vnd.google.colaboratory.intrinsic+json": {
              "type": "string"
            }
          },
          "metadata": {},
          "execution_count": 8
        }
      ]
    }
  ]
}